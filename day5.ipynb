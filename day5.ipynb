{
 "cells": [
  {
   "cell_type": "code",
   "execution_count": 63,
   "metadata": {
    "collapsed": true
   },
   "outputs": [],
   "source": [
    "puzzle_input = 'ugkcyxxp'\n",
    "\n",
    "from hashlib import md5"
   ]
  },
  {
   "cell_type": "code",
   "execution_count": null,
   "metadata": {
    "collapsed": false
   },
   "outputs": [],
   "source": [
    "# md5(b'hello').hexdigest()"
   ]
  },
  {
   "cell_type": "code",
   "execution_count": 64,
   "metadata": {
    "collapsed": false
   },
   "outputs": [
    {
     "name": "stdout",
     "output_type": "stream",
     "text": [
      "d4cd2ee\n",
      "10200000\n",
      "d4cd2ee1\n"
     ]
    }
   ],
   "source": [
    "# part 1\n",
    "\n",
    "import random\n",
    "\n",
    "kernel = md5(puzzle_input.encode())\n",
    "\n",
    "password = ''\n",
    "index = 0\n",
    "\n",
    "while True:\n",
    "    cur_hash = kernel.copy()\n",
    "    cur_hash.update(str(index).encode())\n",
    "    cur_digest = cur_hash.hexdigest()\n",
    "    if cur_digest.startswith('00000'):\n",
    "        password += cur_digest[5]\n",
    "        print(password)\n",
    "        if len(password) >= 8:\n",
    "            break\n",
    "    index += 1\n",
    "    if found or index % 100000 == 0:\n",
    "        clear_output(wait=True)\n",
    "        print(password)\n",
    "        print(index)\n"
   ]
  },
  {
   "cell_type": "code",
   "execution_count": 72,
   "metadata": {
    "collapsed": false
   },
   "outputs": [
    {
     "name": "stdout",
     "output_type": "stream",
     "text": [
      "f2c730e5\n"
     ]
    }
   ],
   "source": [
    "# part 2\n",
    "\n",
    "from IPython.display import clear_output\n",
    "import random\n",
    "\n",
    "kernel = md5(puzzle_input.encode())\n",
    "\n",
    "password = ['_'] * 8\n",
    "index = 0\n",
    "\n",
    "def haxify(s: str):\n",
    "    return ''.join([chr(random.randint(32, 126)) if c == '_' else c for c in s])\n",
    "\n",
    "while True:\n",
    "    cur_hash = kernel.copy()\n",
    "    cur_hash.update(str(index).encode())\n",
    "    cur_digest = cur_hash.hexdigest()\n",
    "    if cur_digest.startswith('00000'):\n",
    "        try:\n",
    "            position = int(cur_digest[5])\n",
    "            if password[position] == '_':\n",
    "                password[position] = cur_digest[6]\n",
    "                if '_' not in password:\n",
    "                    break\n",
    "        except (ValueError, IndexError) as e:\n",
    "            # ignore invalid positions\n",
    "            pass\n",
    "    index += 1\n",
    "    if index % 25000 == 0:\n",
    "        clear_output(wait=True)\n",
    "        print(haxify(password))\n",
    "#         print(index)\n",
    "\n",
    "clear_output(wait=True)\n",
    "print(''.join(password))\n"
   ]
  },
  {
   "cell_type": "code",
   "execution_count": 69,
   "metadata": {
    "collapsed": false
   },
   "outputs": [],
   "source": [
    "import inspect\n"
   ]
  },
  {
   "cell_type": "code",
   "execution_count": 70,
   "metadata": {
    "collapsed": false
   },
   "outputs": [
    {
     "data": {
      "text/plain": [
       "(['def haxify(s: str):\\n',\n",
       "  \"    return ''.join([chr(random.randint(32, 126)) if c == '_' else c for c in s])\\n\"],\n",
       " 7)"
      ]
     },
     "execution_count": 70,
     "metadata": {},
     "output_type": "execute_result"
    }
   ],
   "source": [
    "inspect.getsourcelines(haxify)"
   ]
  },
  {
   "cell_type": "code",
   "execution_count": null,
   "metadata": {
    "collapsed": false
   },
   "outputs": [],
   "source": []
  },
  {
   "cell_type": "code",
   "execution_count": null,
   "metadata": {
    "collapsed": true
   },
   "outputs": [],
   "source": []
  }
 ],
 "metadata": {
  "kernelspec": {
   "display_name": "Python 3",
   "language": "python",
   "name": "python3"
  },
  "language_info": {
   "codemirror_mode": {
    "name": "ipython",
    "version": 3
   },
   "file_extension": ".py",
   "mimetype": "text/x-python",
   "name": "python",
   "nbconvert_exporter": "python",
   "pygments_lexer": "ipython3",
   "version": "3.5.2"
  }
 },
 "nbformat": 4,
 "nbformat_minor": 2
}
